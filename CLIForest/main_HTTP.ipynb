{
 "cells": [
  {
   "cell_type": "code",
   "execution_count": 1,
   "metadata": {},
   "outputs": [],
   "source": [
    "from models.iforest import IsolationForest\n",
    "import pandas as pd\n",
    "from sklearn.metrics import confusion_matrix, classification_report, roc_auc_score\n",
    "from util.utils import find_TPR_threshold\n",
    "from sklearn.ensemble import IsolationForest as skIsolationForest\n",
    "import time"
   ]
  },
  {
   "cell_type": "code",
   "execution_count": 2,
   "metadata": {},
   "outputs": [
    {
     "name": "stdout",
     "output_type": "stream",
     "text": [
      "Dataset: HTTP\n",
      "Dataset shape: (567497, 3)\n",
      "Anomalies in dataset: 2211\n"
     ]
    }
   ],
   "source": [
    "# Load data\n",
    "data = pd.read_csv('../datasets/HTTP.csv')\n",
    "X = data.drop('3', axis=1)\n",
    "y = data['3']\n",
    "\n",
    "print(f'Dataset: HTTP')\n",
    "print(f'Dataset shape: {X.shape}')\n",
    "print(f'Anomalies in dataset: {y.value_counts()[1]}')"
   ]
  },
  {
   "cell_type": "code",
   "execution_count": 3,
   "metadata": {},
   "outputs": [
    {
     "name": "stdout",
     "output_type": "stream",
     "text": [
      "Training time: 0.036493778228759766\n"
     ]
    }
   ],
   "source": [
    "# Train Isolation Forest\n",
    "clf = IsolationForest(sample_size=256, n_trees=100)\n",
    "start_time = time.time()\n",
    "clf.fit(X)\n",
    "end_time = time.time()\n",
    "print(f'Training time: {end_time - start_time}')"
   ]
  },
  {
   "cell_type": "code",
   "execution_count": 4,
   "metadata": {},
   "outputs": [
    {
     "name": "stdout",
     "output_type": "stream",
     "text": [
      "Confusion matrix:\n",
      " [[564715    571]\n",
      " [    55   2156]]\n",
      "Classification report:\n",
      "               precision    recall  f1-score   support\n",
      "\n",
      "           0       1.00      1.00      1.00    565286\n",
      "           1       0.79      0.98      0.87      2211\n",
      "\n",
      "    accuracy                           1.00    567497\n",
      "   macro avg       0.90      0.99      0.94    567497\n",
      "weighted avg       1.00      1.00      1.00    567497\n",
      "\n",
      "ROC AUC score: 0.9870571349759061\n",
      "Threshold: 0.8449999999999999\n",
      "FPR: 0.001010108157640557\n"
     ]
    }
   ],
   "source": [
    "# Predict\n",
    "scores = clf.anomaly_score(X)\n",
    "threshold, FPR = find_TPR_threshold(y, scores, 0.8)\n",
    "y_pred = clf.predict_from_anomaly_scores(scores, threshold)\n",
    "\n",
    "print(f'Confusion matrix:\\n {confusion_matrix(y, y_pred)}')\n",
    "print(f'Classification report:\\n {classification_report(y, y_pred)}')\n",
    "print(f'ROC AUC score: {roc_auc_score(y, y_pred)}')\n",
    "print(f'Threshold: {threshold}')\n",
    "print(f'FPR: {FPR}')"
   ]
  },
  {
   "cell_type": "code",
   "execution_count": 5,
   "metadata": {},
   "outputs": [
    {
     "name": "stdout",
     "output_type": "stream",
     "text": [
      "Sklearn training time: 2.2484138011932373\n"
     ]
    }
   ],
   "source": [
    "# Compare with sklearn\n",
    "sk_clf = skIsolationForest(contamination=0.2, n_estimators=100, max_samples=256, n_jobs=-1, random_state=42)\n",
    "start_time = time.time()\n",
    "sk_clf.fit(X)\n",
    "end_time = time.time()\n",
    "print(f'Sklearn training time: {end_time - start_time}')"
   ]
  },
  {
   "cell_type": "code",
   "execution_count": 6,
   "metadata": {},
   "outputs": [
    {
     "name": "stdout",
     "output_type": "stream",
     "text": [
      "Confusion matrix:\n",
      " [[111288 453998]\n",
      " [  2211      0]]\n",
      "Classification report:\n",
      "               precision    recall  f1-score   support\n",
      "\n",
      "           0       0.98      0.20      0.33    565286\n",
      "           1       0.00      0.00      0.00      2211\n",
      "\n",
      "    accuracy                           0.20    567497\n",
      "   macro avg       0.49      0.10      0.16    567497\n",
      "weighted avg       0.98      0.20      0.33    567497\n",
      "\n",
      "ROC AUC score: 0.09843512841287422\n",
      "Threshold: -8.81239525796218e-16\n",
      "FPR: 0.8009856957363175\n"
     ]
    }
   ],
   "source": [
    "# Predict\n",
    "sk_scores = sk_clf.decision_function(X).reshape(-1, 1)\n",
    "sk_threshold, sk_FPR = find_TPR_threshold(y, sk_scores, 0.8)\n",
    "sk_y_pred = [1 if score >= sk_threshold else 0 for score in sk_scores]\n",
    "\n",
    "print(f'Confusion matrix:\\n {confusion_matrix(y, sk_y_pred)}')\n",
    "print(f'Classification report:\\n {classification_report(y, sk_y_pred)}')\n",
    "print(f'ROC AUC score: {roc_auc_score(y, sk_y_pred)}')\n",
    "print(f'Threshold: {sk_threshold}')\n",
    "print(f'FPR: {sk_FPR}')"
   ]
  }
 ],
 "metadata": {
  "kernelspec": {
   "display_name": "nids",
   "language": "python",
   "name": "python3"
  },
  "language_info": {
   "codemirror_mode": {
    "name": "ipython",
    "version": 3
   },
   "file_extension": ".py",
   "mimetype": "text/x-python",
   "name": "python",
   "nbconvert_exporter": "python",
   "pygments_lexer": "ipython3",
   "version": "3.10.12"
  }
 },
 "nbformat": 4,
 "nbformat_minor": 2
}
